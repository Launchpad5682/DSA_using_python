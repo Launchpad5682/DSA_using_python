{
 "metadata": {
  "language_info": {
   "codemirror_mode": {
    "name": "ipython",
    "version": 3
   },
   "file_extension": ".py",
   "mimetype": "text/x-python",
   "name": "python",
   "nbconvert_exporter": "python",
   "pygments_lexer": "ipython3",
   "version": "3.8.5"
  },
  "orig_nbformat": 4,
  "kernelspec": {
   "name": "python3",
   "display_name": "Python 3.8.5 64-bit ('base': conda)"
  },
  "interpreter": {
   "hash": "f8d321303d99d04e870d8e3a24260eda23dc6ab7596deb2b8ef95bd310c4249c"
  }
 },
 "nbformat": 4,
 "nbformat_minor": 2,
 "cells": [
  {
   "cell_type": "code",
   "execution_count": 1,
   "metadata": {},
   "outputs": [],
   "source": [
    "from collections import defaultdict\n",
    "\n",
    "graph = defaultdict(list)"
   ]
  },
  {
   "cell_type": "code",
   "execution_count": 3,
   "metadata": {},
   "outputs": [
    {
     "output_type": "execute_result",
     "data": {
      "text/plain": [
       "defaultdict(list, {})"
      ]
     },
     "metadata": {},
     "execution_count": 3
    }
   ],
   "source": [
    "graph"
   ]
  },
  {
   "cell_type": "code",
   "execution_count": 11,
   "metadata": {},
   "outputs": [],
   "source": [
    "class Graph:\n",
    "\n",
    "    def __init__(self, noOfVertices):\n",
    "        self.noOfVertices = noOfVertices\n",
    "        self.graph = defaultdict(list)\n",
    "\n",
    "    def addEdge(self, vertex, edge):\n",
    "        self.graph[vertex].append(edge)\n",
    "\n",
    "    def topologicalSortHelper(self, n, visited, stack):\n",
    "        visited.append(n)\n",
    "\n",
    "        for j in self.graph[n]:\n",
    "            if j not in visited:\n",
    "                self.topologicalSortHelper(j,visited, stack)\n",
    "\n",
    "        # for sending the deepest node at the bottom of the stack\n",
    "        stack.insert(0,n)\n",
    "\n",
    "    def topologicalSort(self):\n",
    "        visited = []\n",
    "        stack = []\n",
    "\n",
    "        for i in list(self.graph):\n",
    "            if i not in visited:\n",
    "                self.topologicalSortHelper(i, visited, stack)\n",
    "\n",
    "        # printing the \n",
    "        print(stack)"
   ]
  },
  {
   "cell_type": "code",
   "execution_count": 12,
   "metadata": {},
   "outputs": [],
   "source": [
    "graph = Graph(8)"
   ]
  },
  {
   "cell_type": "code",
   "execution_count": 13,
   "metadata": {},
   "outputs": [],
   "source": [
    "graph.addEdge('A','C')\n",
    "graph.addEdge('B','C')\n",
    "graph.addEdge('B','D')\n",
    "graph.addEdge('C','E')\n",
    "graph.addEdge('E','H')\n",
    "graph.addEdge('E','F')\n",
    "graph.addEdge('D','F')\n",
    "graph.addEdge('F','G')"
   ]
  },
  {
   "cell_type": "code",
   "execution_count": 14,
   "metadata": {},
   "outputs": [
    {
     "output_type": "execute_result",
     "data": {
      "text/plain": [
       "defaultdict(list,\n",
       "            {'A': ['C'],\n",
       "             'B': ['C', 'D'],\n",
       "             'C': ['E'],\n",
       "             'E': ['H', 'F'],\n",
       "             'D': ['F'],\n",
       "             'F': ['G']})"
      ]
     },
     "metadata": {},
     "execution_count": 14
    }
   ],
   "source": [
    "graph.graph"
   ]
  },
  {
   "cell_type": "code",
   "execution_count": 15,
   "metadata": {},
   "outputs": [
    {
     "output_type": "execute_result",
     "data": {
      "text/plain": [
       "['A', 'B', 'C', 'E', 'D', 'F']"
      ]
     },
     "metadata": {},
     "execution_count": 15
    }
   ],
   "source": [
    "list(graph.graph)"
   ]
  },
  {
   "cell_type": "code",
   "execution_count": 16,
   "metadata": {},
   "outputs": [
    {
     "output_type": "stream",
     "name": "stdout",
     "text": [
      "['B', 'D', 'A', 'C', 'E', 'F', 'G', 'H']\n"
     ]
    }
   ],
   "source": [
    "graph.topologicalSort()"
   ]
  },
  {
   "cell_type": "code",
   "execution_count": null,
   "metadata": {},
   "outputs": [],
   "source": []
  }
 ]
}