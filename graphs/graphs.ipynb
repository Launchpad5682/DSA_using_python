{
 "metadata": {
  "language_info": {
   "codemirror_mode": {
    "name": "ipython",
    "version": 3
   },
   "file_extension": ".py",
   "mimetype": "text/x-python",
   "name": "python",
   "nbconvert_exporter": "python",
   "pygments_lexer": "ipython3",
   "version": "3.8.5"
  },
  "orig_nbformat": 4,
  "kernelspec": {
   "name": "python3",
   "display_name": "Python 3.8.5 64-bit ('base': conda)"
  },
  "interpreter": {
   "hash": "f8d321303d99d04e870d8e3a24260eda23dc6ab7596deb2b8ef95bd310c4249c"
  }
 },
 "nbformat": 4,
 "nbformat_minor": 2,
 "cells": [
  {
   "cell_type": "code",
   "execution_count": 24,
   "metadata": {},
   "outputs": [],
   "source": [
    "class Graph:\n",
    "\n",
    "    def __init__(self, alist=None):\n",
    "        self.alist = alist\n",
    "\n",
    "    def addEdge(self, node, edge):\n",
    "        self.alist[node].append(edge)\n",
    "\n",
    "    def countEdges(self, node):\n",
    "        return len(self.alist[node])\n",
    "\n",
    "    def addNode(self, node):\n",
    "        self.alist[node] = []\n",
    "\n",
    "    def showNodes(self):\n",
    "        return self.alist.keys()\n",
    "\n",
    "    def bfs(self, vertex):\n",
    "        queue = [vertex]\n",
    "        visited = [vertex]\n",
    "\n",
    "        while queue:\n",
    "            deVertex = queue.pop(0)\n",
    "            print(deVertex)\n",
    "\n",
    "            for adj_vertex in self.alist[deVertex]:\n",
    "                if adj_vertex not in visited:\n",
    "                    queue.append(adj_vertex)\n",
    "                    visited.append(adj_vertex)\n",
    "    \n",
    "\n",
    "    def dfs(self,vertex):\n",
    "\n",
    "        stack = [vertex]\n",
    "        visited = [vertex]\n",
    "\n",
    "        while stack:\n",
    "            popVertex = stack.pop()\n",
    "            print(popVertex)\n",
    "\n",
    "            for adj_vertex in self.alist[popVertex]:\n",
    "                if adj_vertex not in visited:\n",
    "                    stack.append(adj_vertex)\n",
    "                    visited.append(adj_vertex)\n",
    "        \n"
   ]
  },
  {
   "cell_type": "code",
   "execution_count": 25,
   "metadata": {},
   "outputs": [],
   "source": [
    "mylinkedin = {\n",
    "    \"vimal\": [\"harry\", \"eric\", \"rahul\"] ,\n",
    "    \"harry\": [\"vimal\", \"eric\"] ,\n",
    "    \"eric\": [\"vimal\", \"harry\",\"raj\"],\n",
    "    \"tom\": [\"raj\", \"rahul\"],\n",
    "    \"raj\":  [\"tom\",\"eric\"],\n",
    "    \"rahul\": [\"vimal\", \"tom\"],\n",
    "}\n"
   ]
  },
  {
   "cell_type": "code",
   "execution_count": 26,
   "metadata": {},
   "outputs": [],
   "source": [
    "start_node = Graph(mylinkedin)"
   ]
  },
  {
   "cell_type": "code",
   "execution_count": 27,
   "metadata": {},
   "outputs": [
    {
     "output_type": "execute_result",
     "data": {
      "text/plain": [
       "{'vimal': ['harry', 'eric', 'rahul'],\n",
       " 'harry': ['vimal', 'eric'],\n",
       " 'eric': ['vimal', 'harry', 'raj'],\n",
       " 'tom': ['raj', 'rahul'],\n",
       " 'raj': ['tom', 'eric'],\n",
       " 'rahul': ['vimal', 'tom']}"
      ]
     },
     "metadata": {},
     "execution_count": 27
    }
   ],
   "source": [
    "start_node.alist"
   ]
  },
  {
   "cell_type": "code",
   "execution_count": 28,
   "metadata": {},
   "outputs": [
    {
     "output_type": "execute_result",
     "data": {
      "text/plain": [
       "dict_keys(['vimal', 'harry', 'eric', 'tom', 'raj', 'rahul'])"
      ]
     },
     "metadata": {},
     "execution_count": 28
    }
   ],
   "source": [
    "start_node.showNodes()"
   ]
  },
  {
   "cell_type": "code",
   "execution_count": 29,
   "metadata": {},
   "outputs": [
    {
     "output_type": "execute_result",
     "data": {
      "text/plain": [
       "3"
      ]
     },
     "metadata": {},
     "execution_count": 29
    }
   ],
   "source": [
    "start_node.countEdges('vimal')"
   ]
  },
  {
   "cell_type": "code",
   "execution_count": 30,
   "metadata": {},
   "outputs": [
    {
     "output_type": "stream",
     "name": "stdout",
     "text": [
      "vimal\nharry\neric\nrahul\nraj\ntom\n"
     ]
    }
   ],
   "source": [
    "start_node.bfs('vimal')"
   ]
  },
  {
   "cell_type": "code",
   "execution_count": 31,
   "metadata": {},
   "outputs": [
    {
     "output_type": "stream",
     "name": "stdout",
     "text": [
      "vimal\nrahul\ntom\nraj\neric\nharry\n"
     ]
    }
   ],
   "source": [
    "start_node.dfs('vimal')"
   ]
  },
  {
   "cell_type": "code",
   "execution_count": null,
   "metadata": {},
   "outputs": [],
   "source": []
  }
 ]
}