{
 "metadata": {
  "language_info": {
   "codemirror_mode": {
    "name": "ipython",
    "version": 3
   },
   "file_extension": ".py",
   "mimetype": "text/x-python",
   "name": "python",
   "nbconvert_exporter": "python",
   "pygments_lexer": "ipython3",
   "version": "3.8.5"
  },
  "orig_nbformat": 2,
  "kernelspec": {
   "name": "python385jvsc74a57bd0f8d321303d99d04e870d8e3a24260eda23dc6ab7596deb2b8ef95bd310c4249c",
   "display_name": "Python 3.8.5 64-bit ('base': conda)"
  },
  "metadata": {
   "interpreter": {
    "hash": "f8d321303d99d04e870d8e3a24260eda23dc6ab7596deb2b8ef95bd310c4249c"
   }
  }
 },
 "nbformat": 4,
 "nbformat_minor": 2,
 "cells": [
  {
   "cell_type": "code",
   "execution_count": 55,
   "metadata": {},
   "outputs": [],
   "source": [
    "a = [1,2,3,4,5]"
   ]
  },
  {
   "cell_type": "code",
   "execution_count": 56,
   "metadata": {},
   "outputs": [
    {
     "output_type": "execute_result",
     "data": {
      "text/plain": [
       "93961758932288"
      ]
     },
     "metadata": {},
     "execution_count": 56
    }
   ],
   "source": [
    "id(a[0])"
   ]
  },
  {
   "cell_type": "code",
   "execution_count": 57,
   "metadata": {},
   "outputs": [
    {
     "output_type": "execute_result",
     "data": {
      "text/plain": [
       "'0x55752d437d40'"
      ]
     },
     "metadata": {},
     "execution_count": 57
    }
   ],
   "source": [
    "hex(id(a[0]))"
   ]
  },
  {
   "cell_type": "code",
   "execution_count": 58,
   "metadata": {},
   "outputs": [
    {
     "output_type": "stream",
     "name": "stdout",
     "text": [
      "0x55752d437d40\n0x55752d437d60\n0x55752d437d80\n0x55752d437da0\n0x55752d437dc0\n"
     ]
    }
   ],
   "source": [
    "for i in a: \n",
    "    print(hex(id(i)))"
   ]
  },
  {
   "cell_type": "code",
   "execution_count": 59,
   "metadata": {},
   "outputs": [],
   "source": [
    "class Node: \n",
    "\n",
    "    def __init__(self, value, next):\n",
    "        self.value = value\n",
    "        self.next = next"
   ]
  },
  {
   "cell_type": "code",
   "execution_count": 60,
   "metadata": {},
   "outputs": [],
   "source": [
    "head = Node(4,None)"
   ]
  },
  {
   "cell_type": "code",
   "execution_count": 61,
   "metadata": {},
   "outputs": [],
   "source": [
    "head.next"
   ]
  },
  {
   "cell_type": "code",
   "execution_count": 62,
   "metadata": {},
   "outputs": [],
   "source": [
    "head.next = Node(5,None)"
   ]
  },
  {
   "cell_type": "code",
   "execution_count": 63,
   "metadata": {},
   "outputs": [
    {
     "output_type": "stream",
     "name": "stdout",
     "text": [
      "0x7f963908a880 4 <__main__.Node object at 0x7f9638e272b0>\n0x7f9638e272b0 5 None\n"
     ]
    }
   ],
   "source": [
    "test = head\n",
    "while test != None:\n",
    "    print(hex(id(test)), test.value, test.next)\n",
    "    test = test.next"
   ]
  },
  {
   "cell_type": "code",
   "execution_count": 64,
   "metadata": {},
   "outputs": [
    {
     "output_type": "execute_result",
     "data": {
      "text/plain": [
       "'0x7f963908a880'"
      ]
     },
     "metadata": {},
     "execution_count": 64
    }
   ],
   "source": [
    "hex(id(head))"
   ]
  },
  {
   "cell_type": "code",
   "execution_count": 65,
   "metadata": {},
   "outputs": [
    {
     "output_type": "execute_result",
     "data": {
      "text/plain": [
       "'0x55752d417360'"
      ]
     },
     "metadata": {},
     "execution_count": 65
    }
   ],
   "source": [
    "hex(id(head.next.next))"
   ]
  },
  {
   "cell_type": "code",
   "execution_count": 66,
   "metadata": {},
   "outputs": [
    {
     "output_type": "execute_result",
     "data": {
      "text/plain": [
       "{'value': 4, 'next': <__main__.Node at 0x7f9638e272b0>}"
      ]
     },
     "metadata": {},
     "execution_count": 66
    }
   ],
   "source": [
    "head.__dict__"
   ]
  },
  {
   "cell_type": "code",
   "execution_count": 67,
   "metadata": {},
   "outputs": [
    {
     "output_type": "execute_result",
     "data": {
      "text/plain": [
       "{'value': 5, 'next': None}"
      ]
     },
     "metadata": {},
     "execution_count": 67
    }
   ],
   "source": [
    "head.next.__dict__"
   ]
  },
  {
   "cell_type": "code",
   "execution_count": 68,
   "metadata": {},
   "outputs": [
    {
     "output_type": "stream",
     "name": "stdout",
     "text": [
      "0x7f963908a880 4 <__main__.Node object at 0x7f9638e272b0>\n"
     ]
    }
   ],
   "source": [
    "test = head\n",
    "while test.next != None:\n",
    "    print(hex(id(test)), test.value, test.next)\n",
    "    test = test.next"
   ]
  },
  {
   "cell_type": "code",
   "execution_count": 69,
   "metadata": {},
   "outputs": [],
   "source": [
    "test.next = Node(6,Node(7,None))"
   ]
  },
  {
   "cell_type": "code",
   "execution_count": 70,
   "metadata": {},
   "outputs": [
    {
     "output_type": "stream",
     "name": "stdout",
     "text": [
      "0x7f9638e272b0 5 <__main__.Node object at 0x7f9638e27790>\n0x7f9638e27790 6 <__main__.Node object at 0x7f9638e27310>\n0x7f9638e27310 7 None\n"
     ]
    }
   ],
   "source": [
    "while test != None:\n",
    "    print(hex(id(test)), test.value, test.next)\n",
    "    test = test.next"
   ]
  },
  {
   "cell_type": "code",
   "execution_count": 71,
   "metadata": {},
   "outputs": [
    {
     "output_type": "stream",
     "name": "stdout",
     "text": [
      "0x7f963908a880 4 <__main__.Node object at 0x7f9638e272b0>\n0x7f9638e272b0 5 <__main__.Node object at 0x7f9638e27790>\n0x7f9638e27790 6 <__main__.Node object at 0x7f9638e27310>\n0x7f9638e27310 7 None\n"
     ]
    }
   ],
   "source": [
    "test = head \n",
    "while test != None: \n",
    "    print(hex(id(test)), test.value, test.next)\n",
    "    test = test.next"
   ]
  },
  {
   "cell_type": "code",
   "execution_count": 72,
   "metadata": {},
   "outputs": [],
   "source": [
    "test = head \n",
    "while test.next != None:\n",
    "    test = test.next"
   ]
  },
  {
   "cell_type": "code",
   "execution_count": 73,
   "metadata": {},
   "outputs": [],
   "source": [
    "test.next = Node(82, Node(65, Node(73, None)))"
   ]
  },
  {
   "cell_type": "code",
   "execution_count": 74,
   "metadata": {},
   "outputs": [
    {
     "output_type": "stream",
     "name": "stdout",
     "text": [
      "0x7f963908a880 4 <__main__.Node object at 0x7f9638e272b0>\n0x7f9638e272b0 5 <__main__.Node object at 0x7f9638e27790>\n0x7f9638e27790 6 <__main__.Node object at 0x7f9638e27310>\n0x7f9638e27310 7 <__main__.Node object at 0x7f9638e275b0>\n0x7f9638e275b0 82 <__main__.Node object at 0x7f9638e27e20>\n0x7f9638e27e20 65 <__main__.Node object at 0x7f963908a070>\n0x7f963908a070 73 None\n"
     ]
    }
   ],
   "source": [
    "test = head \n",
    "while test != None: \n",
    "    print(hex(id(test)), test.value, test.next)\n",
    "    test = test.next"
   ]
  },
  {
   "cell_type": "code",
   "execution_count": 75,
   "metadata": {},
   "outputs": [
    {
     "output_type": "stream",
     "name": "stdout",
     "text": [
      "4\n0x7f963908a880\n<__main__.Node object at 0x7f9638e272b0>\n5\n0x7f9638e272b0\n<__main__.Node object at 0x7f9638e27790>\n6\n0x7f9638e27790\n<__main__.Node object at 0x7f9638e27310>\n7\n0x7f9638e27310\n<__main__.Node object at 0x7f9638e275b0>\n82\n0x7f9638e275b0\n<__main__.Node object at 0x7f9638e27e20>\n65\n0x7f9638e27e20\n<__main__.Node object at 0x7f963908a070>\n73\n0x7f963908a070\nNone\n"
     ]
    }
   ],
   "source": [
    "test = head \n",
    "while test is not None: \n",
    "    print(test.value)\n",
    "    print(hex(id(test)))\n",
    "    print(test.next)\n",
    "    test = test.next"
   ]
  },
  {
   "cell_type": "code",
   "execution_count": 76,
   "metadata": {},
   "outputs": [
    {
     "output_type": "execute_result",
     "data": {
      "text/plain": [
       "True"
      ]
     },
     "metadata": {},
     "execution_count": 76
    }
   ],
   "source": [
    "test is None"
   ]
  },
  {
   "cell_type": "code",
   "execution_count": 77,
   "metadata": {},
   "outputs": [],
   "source": [
    "test = head \n",
    "while test.next is not None: \n",
    "    test = test.next"
   ]
  },
  {
   "cell_type": "code",
   "execution_count": 78,
   "metadata": {},
   "outputs": [],
   "source": [
    "test.next = head"
   ]
  },
  {
   "cell_type": "code",
   "execution_count": 51,
   "metadata": {},
   "outputs": [
    {
     "output_type": "execute_result",
     "data": {
      "text/plain": [
       "73"
      ]
     },
     "metadata": {},
     "execution_count": 51
    }
   ],
   "source": [
    "test.value"
   ]
  },
  {
   "cell_type": "code",
   "execution_count": null,
   "metadata": {},
   "outputs": [],
   "source": []
  },
  {
   "cell_type": "code",
   "execution_count": 80,
   "metadata": {},
   "outputs": [
    {
     "output_type": "execute_result",
     "data": {
      "text/plain": [
       "<__main__.Node at 0x7f963908a880>"
      ]
     },
     "metadata": {},
     "execution_count": 80
    }
   ],
   "source": [
    "import time \n",
    "while test is not None: \n",
    "    print(test.value)\n",
    "    test = test.next\n",
    "    time.sleep(1)"
   ]
  },
  {
   "cell_type": "code",
   "execution_count": null,
   "metadata": {},
   "outputs": [],
   "source": [
    "head"
   ]
  }
 ]
}