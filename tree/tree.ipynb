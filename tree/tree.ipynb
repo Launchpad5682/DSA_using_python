{
 "metadata": {
  "language_info": {
   "codemirror_mode": {
    "name": "ipython",
    "version": 3
   },
   "file_extension": ".py",
   "mimetype": "text/x-python",
   "name": "python",
   "nbconvert_exporter": "python",
   "pygments_lexer": "ipython3",
   "version": "3.8.5"
  },
  "orig_nbformat": 2,
  "kernelspec": {
   "name": "python385jvsc74a57bd0f8d321303d99d04e870d8e3a24260eda23dc6ab7596deb2b8ef95bd310c4249c",
   "display_name": "Python 3.8.5 64-bit ('base': conda)"
  },
  "metadata": {
   "interpreter": {
    "hash": "f8d321303d99d04e870d8e3a24260eda23dc6ab7596deb2b8ef95bd310c4249c"
   }
  }
 },
 "nbformat": 4,
 "nbformat_minor": 2,
 "cells": [
  {
   "cell_type": "code",
   "execution_count": 20,
   "metadata": {},
   "outputs": [],
   "source": [
    "class Node: \n",
    "\n",
    "    def __init__(self, value, children = []):\n",
    "        self.value = value\n",
    "        self.children = children\n",
    "\n",
    "    def addChild(self, child):\n",
    "        self.children.append(child)"
   ]
  },
  {
   "cell_type": "code",
   "execution_count": 28,
   "metadata": {},
   "outputs": [],
   "source": [
    "drinks = Node(\"drinks\",[])\n",
    "hot = Node(\"hot\",[])\n",
    "cold = Node(\"cold\",[])"
   ]
  },
  {
   "cell_type": "code",
   "execution_count": 29,
   "metadata": {},
   "outputs": [
    {
     "output_type": "execute_result",
     "data": {
      "text/plain": [
       "{'value': 'drinks', 'children': []}"
      ]
     },
     "metadata": {},
     "execution_count": 29
    }
   ],
   "source": [
    "drinks.__dict__"
   ]
  },
  {
   "cell_type": "code",
   "execution_count": 30,
   "metadata": {},
   "outputs": [],
   "source": [
    "drinks.addChild(hot)"
   ]
  },
  {
   "cell_type": "code",
   "execution_count": 31,
   "metadata": {},
   "outputs": [
    {
     "output_type": "execute_result",
     "data": {
      "text/plain": [
       "{'value': 'drinks', 'children': [<__main__.Node at 0x7fa797b9b7f0>]}"
      ]
     },
     "metadata": {},
     "execution_count": 31
    }
   ],
   "source": [
    "drinks.__dict__"
   ]
  },
  {
   "cell_type": "code",
   "execution_count": 32,
   "metadata": {},
   "outputs": [],
   "source": [
    "drinks.addChild(cold)"
   ]
  },
  {
   "cell_type": "code",
   "execution_count": 33,
   "metadata": {},
   "outputs": [
    {
     "output_type": "execute_result",
     "data": {
      "text/plain": [
       "{'value': 'drinks',\n",
       " 'children': [<__main__.Node at 0x7fa797b9b7f0>,\n",
       "  <__main__.Node at 0x7fa79789d8e0>]}"
      ]
     },
     "metadata": {},
     "execution_count": 33
    }
   ],
   "source": [
    "drinks.__dict__"
   ]
  },
  {
   "cell_type": "code",
   "execution_count": 34,
   "metadata": {},
   "outputs": [
    {
     "output_type": "execute_result",
     "data": {
      "text/plain": [
       "'cold'"
      ]
     },
     "metadata": {},
     "execution_count": 34
    }
   ],
   "source": [
    "drinks.children[1].value"
   ]
  },
  {
   "cell_type": "code",
   "execution_count": 35,
   "metadata": {},
   "outputs": [],
   "source": [
    "tea = Node(\"tea\",[])\n",
    "coffee = Node(\"coffee\",[])\n",
    "soft = Node(\"soft\",[])\n",
    "hard = Node(\"hard\",[])\n",
    "juices = Node(\"juices\",[])"
   ]
  },
  {
   "cell_type": "code",
   "execution_count": 36,
   "metadata": {},
   "outputs": [],
   "source": [
    "hot.children.append(tea)\n",
    "hot.children.append(coffee)\n",
    "cold.children.append(hard)\n",
    "cold.children.append(soft)\n",
    "cold.children.append(juices)"
   ]
  },
  {
   "cell_type": "code",
   "execution_count": 37,
   "metadata": {},
   "outputs": [
    {
     "output_type": "execute_result",
     "data": {
      "text/plain": [
       "{'value': 'drinks',\n",
       " 'children': [<__main__.Node at 0x7fa797b9b7f0>,\n",
       "  <__main__.Node at 0x7fa79789d8e0>]}"
      ]
     },
     "metadata": {},
     "execution_count": 37
    }
   ],
   "source": [
    "drinks.__dict__"
   ]
  },
  {
   "cell_type": "code",
   "execution_count": 38,
   "metadata": {},
   "outputs": [
    {
     "output_type": "execute_result",
     "data": {
      "text/plain": [
       "'cold'"
      ]
     },
     "metadata": {},
     "execution_count": 38
    }
   ],
   "source": [
    "drinks.children[1].value"
   ]
  },
  {
   "cell_type": "code",
   "execution_count": 43,
   "metadata": {},
   "outputs": [
    {
     "output_type": "execute_result",
     "data": {
      "text/plain": [
       "'soft'"
      ]
     },
     "metadata": {},
     "execution_count": 43
    }
   ],
   "source": [
    "drinks.children[1].children[1].value"
   ]
  },
  {
   "cell_type": "code",
   "execution_count": 48,
   "metadata": {},
   "outputs": [
    {
     "output_type": "stream",
     "name": "stdout",
     "text": [
      "drinks\n  hot\n   tea\n   coffee\n  cold\n   hard\n   soft\n   juices\n"
     ]
    }
   ],
   "source": [
    "print(drinks.value)\n",
    "for i in drinks.children:\n",
    "    print(\" \",i.value)\n",
    "    for j in i.children:\n",
    "        print(\"  \",j.value)"
   ]
  },
  {
   "cell_type": "code",
   "execution_count": 60,
   "metadata": {},
   "outputs": [],
   "source": [
    "def traverse(tree,level):\n",
    "    print(\"-\"*level,tree.value)\n",
    "    for i in tree.children:\n",
    "        print(\"|\")\n",
    "        traverse(i,level+1)"
   ]
  },
  {
   "cell_type": "code",
   "execution_count": 61,
   "metadata": {},
   "outputs": [
    {
     "output_type": "stream",
     "name": "stdout",
     "text": [
      " drinks\n|\n- hot\n|\n-- tea\n|\n-- coffee\n|\n- cold\n|\n-- hard\n|\n-- soft\n|\n-- juices\n"
     ]
    }
   ],
   "source": [
    "traverse(drinks,0)"
   ]
  },
  {
   "cell_type": "code",
   "execution_count": 62,
   "metadata": {},
   "outputs": [],
   "source": [
    "fanta = Node(\"fanta\",[])\n",
    "beer = Node(\"beer\",[])"
   ]
  },
  {
   "cell_type": "code",
   "execution_count": 63,
   "metadata": {},
   "outputs": [],
   "source": [
    "hard.children.append(beer)"
   ]
  },
  {
   "cell_type": "code",
   "execution_count": 64,
   "metadata": {},
   "outputs": [],
   "source": [
    "soft.children.append(fanta)"
   ]
  },
  {
   "cell_type": "code",
   "execution_count": 66,
   "metadata": {},
   "outputs": [
    {
     "output_type": "stream",
     "name": "stdout",
     "text": [
      " drinks\n|\n- hot\n|\n-- tea\n|\n-- coffee\n|\n- cold\n|\n-- hard\n|\n--- beer\n|\n-- soft\n|\n--- fanta\n|\n-- juices\n"
     ]
    }
   ],
   "source": [
    "traverse(drinks,0)"
   ]
  },
  {
   "cell_type": "code",
   "execution_count": null,
   "metadata": {},
   "outputs": [],
   "source": []
  }
 ]
}