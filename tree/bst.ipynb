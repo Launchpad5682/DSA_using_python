{
 "metadata": {
  "language_info": {
   "codemirror_mode": {
    "name": "ipython",
    "version": 3
   },
   "file_extension": ".py",
   "mimetype": "text/x-python",
   "name": "python",
   "nbconvert_exporter": "python",
   "pygments_lexer": "ipython3",
   "version": "3.9.2"
  },
  "orig_nbformat": 2,
  "kernelspec": {
   "name": "python39264bitfullstackpythoncondaa2b38d6b98584ddbbf36039522a1c01a",
   "display_name": "Python 3.9.2 64-bit ('full-stack-python': conda)"
  },
  "metadata": {
   "interpreter": {
    "hash": "a0cf985394e05f3927c0657f3badb28ce615f65fb1eee3af299822d9c00dee3e"
   }
  }
 },
 "nbformat": 4,
 "nbformat_minor": 2,
 "cells": [
  {
   "source": [
    "## BST- Binary Search Tree"
   ],
   "cell_type": "markdown",
   "metadata": {}
  },
  {
   "cell_type": "code",
   "execution_count": 4,
   "metadata": {},
   "outputs": [],
   "source": [
    "class BSTnode: \n",
    "\n",
    "    def __init__(self, value):\n",
    "        self.value = value\n",
    "        self.left = None\n",
    "        self.right = None"
   ]
  },
  {
   "cell_type": "code",
   "execution_count": 5,
   "metadata": {},
   "outputs": [],
   "source": [
    "def insertNode(node,value):\n",
    "    if node.value is None:\n",
    "        node.value = value\n",
    "\n",
    "    elif value <= node.value:\n",
    "        if node.left is None:\n",
    "            node.left = BSTnode(value)\n",
    "\n",
    "        else:\n",
    "            insertNode(node.left,value)\n",
    "\n",
    "    else:\n",
    "        if node.right is None:\n",
    "            node.right = BSTnode(value)\n",
    "        else:\n",
    "            insertNode(node.right,value)\n",
    "\n",
    "    return \"node inserted successsfully...\"\n"
   ]
  },
  {
   "cell_type": "code",
   "execution_count": 6,
   "metadata": {},
   "outputs": [],
   "source": [
    "root = BSTnode(None)"
   ]
  },
  {
   "cell_type": "code",
   "execution_count": 7,
   "metadata": {},
   "outputs": [
    {
     "output_type": "execute_result",
     "data": {
      "text/plain": [
       "'node inserted successsfully...'"
      ]
     },
     "metadata": {},
     "execution_count": 7
    }
   ],
   "source": [
    "insertNode(root,60)"
   ]
  },
  {
   "cell_type": "code",
   "execution_count": 9,
   "metadata": {},
   "outputs": [
    {
     "output_type": "stream",
     "name": "stdout",
     "text": [
      "None 60 None\n"
     ]
    }
   ],
   "source": [
    "print(root.left,root.value,root.right)"
   ]
  },
  {
   "cell_type": "code",
   "execution_count": 10,
   "metadata": {},
   "outputs": [
    {
     "output_type": "execute_result",
     "data": {
      "text/plain": [
       "'node inserted successsfully...'"
      ]
     },
     "metadata": {},
     "execution_count": 10
    }
   ],
   "source": [
    "insertNode(root,40)"
   ]
  },
  {
   "cell_type": "code",
   "execution_count": 11,
   "metadata": {},
   "outputs": [
    {
     "output_type": "execute_result",
     "data": {
      "text/plain": [
       "40"
      ]
     },
     "metadata": {},
     "execution_count": 11
    }
   ],
   "source": [
    "root.left.value"
   ]
  },
  {
   "cell_type": "code",
   "execution_count": 12,
   "metadata": {},
   "outputs": [
    {
     "output_type": "execute_result",
     "data": {
      "text/plain": [
       "'node inserted successsfully...'"
      ]
     },
     "metadata": {},
     "execution_count": 12
    }
   ],
   "source": [
    "insertNode(root,100)"
   ]
  },
  {
   "cell_type": "code",
   "execution_count": 13,
   "metadata": {},
   "outputs": [
    {
     "output_type": "stream",
     "name": "stdout",
     "text": [
      "40 60 100\n"
     ]
    }
   ],
   "source": [
    "print(root.left.value, root.value, root.right.value)"
   ]
  },
  {
   "cell_type": "code",
   "execution_count": 14,
   "metadata": {},
   "outputs": [
    {
     "output_type": "execute_result",
     "data": {
      "text/plain": [
       "'node inserted successsfully...'"
      ]
     },
     "metadata": {},
     "execution_count": 14
    }
   ],
   "source": [
    "insertNode(root,30)\n",
    "insertNode(root,80)\n",
    "insertNode(root,110)\n",
    "insertNode(root,50)\n",
    "insertNode(root,200)\n",
    "insertNode(root,300)"
   ]
  },
  {
   "cell_type": "code",
   "execution_count": 15,
   "metadata": {},
   "outputs": [],
   "source": [
    "from collections import deque\n",
    "\n",
    "def levelOrderTraversal(root):\n",
    "\n",
    "    if root is None: \n",
    "        return \"No root found\"\n",
    "\n",
    "    queue = deque()\n",
    "    # enque the root node\n",
    "    queue.append(root)\n",
    " \n",
    "    while len(queue) != 0: \n",
    "        node = queue.popleft()\n",
    "        print(node.value)\n",
    "        \n",
    "        if node.left is not None:\n",
    "            queue.append(node.left)\n",
    "\n",
    "        if node.right is not None: \n",
    "            queue.append(node.right)"
   ]
  },
  {
   "cell_type": "code",
   "execution_count": 16,
   "metadata": {},
   "outputs": [
    {
     "output_type": "stream",
     "name": "stdout",
     "text": [
      "60\n40\n100\n30\n50\n80\n110\n200\n300\n"
     ]
    }
   ],
   "source": [
    "levelOrderTraversal(root)"
   ]
  },
  {
   "cell_type": "code",
   "execution_count": 17,
   "metadata": {},
   "outputs": [],
   "source": [
    "def inorder(root):\n",
    "    if not root: \n",
    "        return\n",
    "    \n",
    "    inorder(root.left)\n",
    "    print(root.value)\n",
    "    inorder(root.right)"
   ]
  },
  {
   "cell_type": "code",
   "execution_count": 18,
   "metadata": {},
   "outputs": [
    {
     "output_type": "stream",
     "name": "stdout",
     "text": [
      "30\n40\n50\n60\n80\n100\n110\n200\n300\n"
     ]
    }
   ],
   "source": [
    "inorder(root)"
   ]
  },
  {
   "cell_type": "code",
   "execution_count": null,
   "metadata": {},
   "outputs": [],
   "source": []
  }
 ]
}