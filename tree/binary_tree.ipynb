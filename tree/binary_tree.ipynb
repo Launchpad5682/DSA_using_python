{
 "metadata": {
  "language_info": {
   "codemirror_mode": {
    "name": "ipython",
    "version": 3
   },
   "file_extension": ".py",
   "mimetype": "text/x-python",
   "name": "python",
   "nbconvert_exporter": "python",
   "pygments_lexer": "ipython3",
   "version": "3.9.2"
  },
  "orig_nbformat": 2,
  "kernelspec": {
   "name": "python39264bitfullstackpythoncondaa2b38d6b98584ddbbf36039522a1c01a",
   "display_name": "Python 3.9.2 64-bit ('full-stack-python': conda)"
  },
  "metadata": {
   "interpreter": {
    "hash": "a0cf985394e05f3927c0657f3badb28ce615f65fb1eee3af299822d9c00dee3e"
   }
  }
 },
 "nbformat": 4,
 "nbformat_minor": 2,
 "cells": [
  {
   "cell_type": "code",
   "execution_count": 10,
   "metadata": {},
   "outputs": [],
   "source": [
    "class Node: \n",
    "    def __init__(self, value):\n",
    "        self.value = value;\n",
    "        self.left = None;\n",
    "        self.right = None;"
   ]
  },
  {
   "cell_type": "code",
   "execution_count": 11,
   "metadata": {},
   "outputs": [],
   "source": [
    "root = Node(\"N0\")\n",
    "N1 = Node(\"N1\")\n",
    "N2 = Node(\"N2\")\n",
    "N3 = Node(\"N3\")\n",
    "N4 = Node(\"N4\")\n",
    "N5 = Node(\"N5\")\n",
    "N6 = Node(\"N6\")\n",
    "N7 = Node(\"N7\")\n",
    "N8 = Node(\"N8\")\n",
    "N9 = Node(\"N9\")"
   ]
  },
  {
   "cell_type": "code",
   "execution_count": 12,
   "metadata": {},
   "outputs": [],
   "source": [
    "root.left = N1\n",
    "root.right = N2\n",
    "N1.left = N3\n",
    "N1.right = N4\n",
    "N2.left = N5\n",
    "N2.right = N6\n",
    "N3.left = N7\n",
    "N3.right = N8\n",
    "N4.left = N9"
   ]
  },
  {
   "cell_type": "code",
   "execution_count": 13,
   "metadata": {},
   "outputs": [],
   "source": [
    "def preorder(root): \n",
    "    if not root: \n",
    "        return\n",
    "        \n",
    "    print(root.value)\n",
    "    preorder(root.left)\n",
    "    preorder(root.right)"
   ]
  },
  {
   "cell_type": "code",
   "execution_count": 14,
   "metadata": {},
   "outputs": [],
   "source": [
    "def inorder(root):\n",
    "    if not root: \n",
    "        return\n",
    "    \n",
    "    inorder(root.left)\n",
    "    print(root.value)\n",
    "    inorder(root.right)"
   ]
  },
  {
   "cell_type": "code",
   "execution_count": 15,
   "metadata": {},
   "outputs": [],
   "source": [
    "def postorder(root): \n",
    "    if not root: \n",
    "        return\n",
    "\n",
    "    postorder(root.left)\n",
    "    postorder(root.right)\n",
    "    print(root.value)"
   ]
  },
  {
   "cell_type": "code",
   "execution_count": 16,
   "metadata": {},
   "outputs": [
    {
     "output_type": "stream",
     "name": "stdout",
     "text": [
      "N0\nN1\nN3\nN7\nN8\nN4\nN9\nN2\nN5\nN6\n"
     ]
    }
   ],
   "source": [
    "preorder(root)"
   ]
  },
  {
   "cell_type": "code",
   "execution_count": 17,
   "metadata": {},
   "outputs": [
    {
     "output_type": "stream",
     "name": "stdout",
     "text": [
      "N7\nN3\nN8\nN1\nN9\nN4\nN0\nN5\nN2\nN6\n"
     ]
    }
   ],
   "source": [
    "inorder(root)"
   ]
  },
  {
   "cell_type": "code",
   "execution_count": 18,
   "metadata": {},
   "outputs": [
    {
     "output_type": "stream",
     "name": "stdout",
     "text": [
      "N7\nN8\nN3\nN9\nN4\nN1\nN5\nN6\nN2\nN0\n"
     ]
    }
   ],
   "source": [
    "postorder(root)"
   ]
  },
  {
   "source": [
    "## Level Order Traversal"
   ],
   "cell_type": "markdown",
   "metadata": {}
  },
  {
   "cell_type": "code",
   "execution_count": 38,
   "metadata": {},
   "outputs": [],
   "source": [
    "from collections import deque"
   ]
  },
  {
   "cell_type": "code",
   "execution_count": 49,
   "metadata": {},
   "outputs": [],
   "source": [
    "def levelOrderTraversal(root):\n",
    "\n",
    "    if root is None: \n",
    "        return \"No root found\"\n",
    "\n",
    "    queue = deque()\n",
    "    # enque the root node\n",
    "    queue.append(root)\n",
    " \n",
    "    while len(queue) != 0: \n",
    "        node = queue.popleft()\n",
    "        print(node.value)\n",
    "        \n",
    "        if node.left is not None:\n",
    "            queue.append(node.left)\n",
    "\n",
    "        if node.right is not None: \n",
    "            queue.append(node.right)\n",
    "\n"
   ]
  },
  {
   "cell_type": "code",
   "execution_count": 50,
   "metadata": {},
   "outputs": [
    {
     "output_type": "stream",
     "name": "stdout",
     "text": [
      "N0\nN1\nN2\nN3\nN4\nN5\nN6\nN7\nN8\nN9\n"
     ]
    }
   ],
   "source": [
    "levelOrderTraversal(root)"
   ]
  },
  {
   "cell_type": "code",
   "execution_count": null,
   "metadata": {},
   "outputs": [],
   "source": []
  }
 ]
}