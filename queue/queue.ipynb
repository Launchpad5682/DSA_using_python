{
 "metadata": {
  "language_info": {
   "codemirror_mode": {
    "name": "ipython",
    "version": 3
   },
   "file_extension": ".py",
   "mimetype": "text/x-python",
   "name": "python",
   "nbconvert_exporter": "python",
   "pygments_lexer": "ipython3",
   "version": "3.9.2"
  },
  "orig_nbformat": 2,
  "kernelspec": {
   "name": "python39264bitfullstackpythoncondaa2b38d6b98584ddbbf36039522a1c01a",
   "display_name": "Python 3.9.2 64-bit ('full-stack-python': conda)"
  },
  "metadata": {
   "interpreter": {
    "hash": "a0cf985394e05f3927c0657f3badb28ce615f65fb1eee3af299822d9c00dee3e"
   }
  }
 },
 "nbformat": 4,
 "nbformat_minor": 2,
 "cells": [
  {
   "cell_type": "code",
   "execution_count": 16,
   "metadata": {},
   "outputs": [],
   "source": [
    "class queue: \n",
    "\n",
    "    def __init__(self):\n",
    "        self.item = []\n",
    "    \n",
    "    def enqueue(self, value):\n",
    "        self.item.insert(0,value)\n",
    "\n",
    "    def dequeue(self):\n",
    "        value = self.item.pop()\n",
    "        print(value)\n",
    "        # or return self.item.pop()\n",
    "\n",
    "    def size(self):\n",
    "        return len(self.item)\n",
    "\n",
    "    def isEmpty(self):\n",
    "        return self.item == []\n",
    "\n",
    "    def peek(self):\n",
    "        return self.item[-1]"
   ]
  },
  {
   "cell_type": "code",
   "execution_count": 39,
   "metadata": {},
   "outputs": [],
   "source": [
    "q = queue()"
   ]
  },
  {
   "cell_type": "code",
   "execution_count": 18,
   "metadata": {},
   "outputs": [],
   "source": [
    "q.enqueue(12)"
   ]
  },
  {
   "cell_type": "code",
   "execution_count": 19,
   "metadata": {},
   "outputs": [
    {
     "output_type": "execute_result",
     "data": {
      "text/plain": [
       "[12]"
      ]
     },
     "metadata": {},
     "execution_count": 19
    }
   ],
   "source": [
    "q.item"
   ]
  },
  {
   "cell_type": "code",
   "execution_count": 20,
   "metadata": {},
   "outputs": [],
   "source": [
    "q.enqueue(11)"
   ]
  },
  {
   "cell_type": "code",
   "execution_count": 21,
   "metadata": {},
   "outputs": [
    {
     "output_type": "execute_result",
     "data": {
      "text/plain": [
       "[11, 12]"
      ]
     },
     "metadata": {},
     "execution_count": 21
    }
   ],
   "source": [
    "q.item"
   ]
  },
  {
   "cell_type": "code",
   "execution_count": 22,
   "metadata": {},
   "outputs": [],
   "source": [
    "q.enqueue(10)"
   ]
  },
  {
   "cell_type": "code",
   "execution_count": 23,
   "metadata": {},
   "outputs": [
    {
     "output_type": "execute_result",
     "data": {
      "text/plain": [
       "[10, 11, 12]"
      ]
     },
     "metadata": {},
     "execution_count": 23
    }
   ],
   "source": [
    "q.item"
   ]
  },
  {
   "cell_type": "code",
   "execution_count": 24,
   "metadata": {},
   "outputs": [
    {
     "output_type": "stream",
     "name": "stdout",
     "text": [
      "12\n"
     ]
    }
   ],
   "source": [
    "q.dequeue()"
   ]
  },
  {
   "cell_type": "code",
   "execution_count": 26,
   "metadata": {},
   "outputs": [
    {
     "output_type": "execute_result",
     "data": {
      "text/plain": [
       "2"
      ]
     },
     "metadata": {},
     "execution_count": 26
    }
   ],
   "source": [
    "q.size()"
   ]
  },
  {
   "cell_type": "code",
   "execution_count": 42,
   "metadata": {},
   "outputs": [
    {
     "output_type": "execute_result",
     "data": {
      "text/plain": [
       "True"
      ]
     },
     "metadata": {},
     "execution_count": 42
    }
   ],
   "source": [
    "q.isEmpty()"
   ]
  },
  {
   "cell_type": "code",
   "execution_count": 43,
   "metadata": {},
   "outputs": [],
   "source": [
    "q.enqueue(10)\n",
    "q.enqueue(16)\n",
    "q.enqueue(65)"
   ]
  },
  {
   "cell_type": "code",
   "execution_count": 44,
   "metadata": {},
   "outputs": [
    {
     "output_type": "execute_result",
     "data": {
      "text/plain": [
       "10"
      ]
     },
     "metadata": {},
     "execution_count": 44
    }
   ],
   "source": [
    "q.peek()"
   ]
  },
  {
   "cell_type": "code",
   "execution_count": 45,
   "metadata": {},
   "outputs": [
    {
     "output_type": "execute_result",
     "data": {
      "text/plain": [
       "False"
      ]
     },
     "metadata": {},
     "execution_count": 45
    }
   ],
   "source": [
    "q.isEmpty()"
   ]
  },
  {
   "source": [
    "Some of the modules available for Queue are collections, queue, deque and multiprocessing <br>\n",
    "```from collections import Queue```<br>\n",
    "```from queue import Queue``` <br>\n",
    "```from multiprocessing import Queue```<br>\n",
    "```import deque ```"
   ],
   "cell_type": "markdown",
   "metadata": {}
  },
  {
   "cell_type": "code",
   "execution_count": null,
   "metadata": {},
   "outputs": [],
   "source": []
  }
 ]
}